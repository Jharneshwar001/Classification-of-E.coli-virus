{
 "cells": [
  {
   "cell_type": "code",
   "execution_count": 1,
   "metadata": {
    "id": "HyDEYVJ0beaJ"
   },
   "outputs": [],
   "source": [
    "Name - Jharneshwar Singh"
   ]
  },
  {
   "cell_type": "code",
   "execution_count": 32,
   "metadata": {},
   "outputs": [],
   "source": [
    "import numpy as np\n",
    "import matplotlib.pyplot as plt\n",
    "import pandas as pd\n",
    "import seaborn as sns\n",
    "from sklearn.preprocessing import OneHotEncoder\n",
    "import pickle\n",
    "from sklearn.neural_network import MLPClassifier\n",
    "from sklearn.metrics import classification_report, accuracy_score\n",
    "from sklearn.model_selection import train_test_split\n",
    "from sklearn.metrics import confusion_matrix\n",
    "url = 'https://archive.ics.uci.edu/ml/machine-learning-databases/molecular-biology/promoter-gene-sequences/promoters.data'\n",
    "names = ['Class', 'id', 'Sequence']\n",
    "data = pd.read_csv(url, names = names)"
   ]
  },
  {
   "cell_type": "code",
   "execution_count": 4,
   "metadata": {
    "colab": {
     "base_uri": "https://localhost:8080/",
     "height": 363
    },
    "executionInfo": {
     "elapsed": 414,
     "status": "ok",
     "timestamp": 1642503096172,
     "user": {
      "displayName": "siddharth patra",
      "photoUrl": "https://lh3.googleusercontent.com/a-/AOh14Ggv4lQRGyP7p3T0gn2CLL_T-zAq_F4BJx6kWGs1UA=s64",
      "userId": "01966341811263607507"
     },
     "user_tz": -330
    },
    "id": "ZWAEs404bt1e",
    "outputId": "6e0fdb8d-6b16-42ed-f0a8-aeba173615d4"
   },
   "outputs": [
    {
     "data": {
      "text/html": [
       "<div>\n",
       "<style scoped>\n",
       "    .dataframe tbody tr th:only-of-type {\n",
       "        vertical-align: middle;\n",
       "    }\n",
       "\n",
       "    .dataframe tbody tr th {\n",
       "        vertical-align: top;\n",
       "    }\n",
       "\n",
       "    .dataframe thead th {\n",
       "        text-align: right;\n",
       "    }\n",
       "</style>\n",
       "<table border=\"1\" class=\"dataframe\">\n",
       "  <thead>\n",
       "    <tr style=\"text-align: right;\">\n",
       "      <th></th>\n",
       "      <th>Class</th>\n",
       "      <th>id</th>\n",
       "      <th>Sequence</th>\n",
       "    </tr>\n",
       "  </thead>\n",
       "  <tbody>\n",
       "    <tr>\n",
       "      <th>0</th>\n",
       "      <td>+</td>\n",
       "      <td>S10</td>\n",
       "      <td>\\t\\ttactagcaatacgcttgcgttcggtggttaagtatgtataat...</td>\n",
       "    </tr>\n",
       "    <tr>\n",
       "      <th>1</th>\n",
       "      <td>+</td>\n",
       "      <td>AMPC</td>\n",
       "      <td>\\t\\ttgctatcctgacagttgtcacgctgattggtgtcgttacaat...</td>\n",
       "    </tr>\n",
       "    <tr>\n",
       "      <th>2</th>\n",
       "      <td>+</td>\n",
       "      <td>AROH</td>\n",
       "      <td>\\t\\tgtactagagaactagtgcattagcttatttttttgttatcat...</td>\n",
       "    </tr>\n",
       "    <tr>\n",
       "      <th>3</th>\n",
       "      <td>+</td>\n",
       "      <td>DEOP2</td>\n",
       "      <td>\\taattgtgatgtgtatcgaagtgtgttgcggagtagatgttagaa...</td>\n",
       "    </tr>\n",
       "    <tr>\n",
       "      <th>4</th>\n",
       "      <td>+</td>\n",
       "      <td>LEU1_TRNA</td>\n",
       "      <td>\\ttcgataattaactattgacgaaaagctgaaaaccactagaatgc...</td>\n",
       "    </tr>\n",
       "    <tr>\n",
       "      <th>5</th>\n",
       "      <td>+</td>\n",
       "      <td>MALEFG</td>\n",
       "      <td>\\taggggcaaggaggatggaaagaggttgccgtataaagaaactag...</td>\n",
       "    </tr>\n",
       "    <tr>\n",
       "      <th>6</th>\n",
       "      <td>+</td>\n",
       "      <td>MALK</td>\n",
       "      <td>\\t\\tcagggggtggaggatttaagccatctcctgatgacgcatagt...</td>\n",
       "    </tr>\n",
       "    <tr>\n",
       "      <th>7</th>\n",
       "      <td>+</td>\n",
       "      <td>RECA</td>\n",
       "      <td>\\t\\ttttctacaaaacacttgatactgtatgagcatacagtataat...</td>\n",
       "    </tr>\n",
       "    <tr>\n",
       "      <th>8</th>\n",
       "      <td>+</td>\n",
       "      <td>RPOB</td>\n",
       "      <td>\\t\\tcgacttaatatactgcgacaggacgtccgttctgtgtaaatc...</td>\n",
       "    </tr>\n",
       "    <tr>\n",
       "      <th>9</th>\n",
       "      <td>+</td>\n",
       "      <td>RRNAB_P1</td>\n",
       "      <td>\\tttttaaatttcctcttgtcaggccggaataactccctataatgc...</td>\n",
       "    </tr>\n",
       "  </tbody>\n",
       "</table>\n",
       "</div>"
      ],
      "text/plain": [
       "  Class         id                                           Sequence\n",
       "0     +        S10  \\t\\ttactagcaatacgcttgcgttcggtggttaagtatgtataat...\n",
       "1     +       AMPC  \\t\\ttgctatcctgacagttgtcacgctgattggtgtcgttacaat...\n",
       "2     +       AROH  \\t\\tgtactagagaactagtgcattagcttatttttttgttatcat...\n",
       "3     +      DEOP2  \\taattgtgatgtgtatcgaagtgtgttgcggagtagatgttagaa...\n",
       "4     +  LEU1_TRNA  \\ttcgataattaactattgacgaaaagctgaaaaccactagaatgc...\n",
       "5     +     MALEFG  \\taggggcaaggaggatggaaagaggttgccgtataaagaaactag...\n",
       "6     +       MALK  \\t\\tcagggggtggaggatttaagccatctcctgatgacgcatagt...\n",
       "7     +       RECA  \\t\\ttttctacaaaacacttgatactgtatgagcatacagtataat...\n",
       "8     +       RPOB  \\t\\tcgacttaatatactgcgacaggacgtccgttctgtgtaaatc...\n",
       "9     +   RRNAB_P1  \\tttttaaatttcctcttgtcaggccggaataactccctataatgc..."
      ]
     },
     "execution_count": 4,
     "metadata": {},
     "output_type": "execute_result"
    }
   ],
   "source": [
    "data.head(10)"
   ]
  },
  {
   "cell_type": "code",
   "execution_count": 5,
   "metadata": {
    "colab": {
     "base_uri": "https://localhost:8080/"
    },
    "executionInfo": {
     "elapsed": 27,
     "status": "ok",
     "timestamp": 1642502945917,
     "user": {
      "displayName": "siddharth patra",
      "photoUrl": "https://lh3.googleusercontent.com/a-/AOh14Ggv4lQRGyP7p3T0gn2CLL_T-zAq_F4BJx6kWGs1UA=s64",
      "userId": "01966341811263607507"
     },
     "user_tz": -330
    },
    "id": "OSHNK5MsbwNw",
    "outputId": "fd6850f6-9143-49ec-de59-3c784fb6c2bc"
   },
   "outputs": [
    {
     "data": {
      "text/plain": [
       "(106, 3)"
      ]
     },
     "execution_count": 5,
     "metadata": {},
     "output_type": "execute_result"
    }
   ],
   "source": [
    "data.shape"
   ]
  },
  {
   "cell_type": "code",
   "execution_count": 6,
   "metadata": {
    "colab": {
     "base_uri": "https://localhost:8080/"
    },
    "executionInfo": {
     "elapsed": 24,
     "status": "ok",
     "timestamp": 1642502945917,
     "user": {
      "displayName": "siddharth patra",
      "photoUrl": "https://lh3.googleusercontent.com/a-/AOh14Ggv4lQRGyP7p3T0gn2CLL_T-zAq_F4BJx6kWGs1UA=s64",
      "userId": "01966341811263607507"
     },
     "user_tz": -330
    },
    "id": "ifrMAOrXb16q",
    "outputId": "26b1ddc5-2033-4dc9-cb0f-421e6e99237c"
   },
   "outputs": [
    {
     "data": {
      "text/plain": [
       "Class       object\n",
       "id          object\n",
       "Sequence    object\n",
       "dtype: object"
      ]
     },
     "execution_count": 6,
     "metadata": {},
     "output_type": "execute_result"
    }
   ],
   "source": [
    "data.dtypes"
   ]
  },
  {
   "cell_type": "code",
   "execution_count": 7,
   "metadata": {
    "colab": {
     "base_uri": "https://localhost:8080/"
    },
    "executionInfo": {
     "elapsed": 24,
     "status": "ok",
     "timestamp": 1642502945918,
     "user": {
      "displayName": "siddharth patra",
      "photoUrl": "https://lh3.googleusercontent.com/a-/AOh14Ggv4lQRGyP7p3T0gn2CLL_T-zAq_F4BJx6kWGs1UA=s64",
      "userId": "01966341811263607507"
     },
     "user_tz": -330
    },
    "id": "toSK2GYgb38-",
    "outputId": "1ac9ca73-cae0-44b7-f9f5-530cdf6cce14"
   },
   "outputs": [
    {
     "name": "stdout",
     "output_type": "stream",
     "text": [
      "\n",
      "+    53\n",
      "-    53\n",
      "Name: Class, dtype: int64\n"
     ]
    }
   ],
   "source": [
    "# Refining and structuring the data\n",
    "\n",
    "# Build our dataset using custom pandas dataframe\n",
    "classes = data.loc[:,'Class']\n",
    "classes.head()\n",
    "print()\n",
    "print(classes.value_counts())"
   ]
  },
  {
   "cell_type": "code",
   "execution_count": 8,
   "metadata": {
    "colab": {
     "base_uri": "https://localhost:8080/",
     "height": 35
    },
    "executionInfo": {
     "elapsed": 501,
     "status": "ok",
     "timestamp": 1642503056562,
     "user": {
      "displayName": "siddharth patra",
      "photoUrl": "https://lh3.googleusercontent.com/a-/AOh14Ggv4lQRGyP7p3T0gn2CLL_T-zAq_F4BJx6kWGs1UA=s64",
      "userId": "01966341811263607507"
     },
     "user_tz": -330
    },
    "id": "GFgY5mzTb9nc",
    "outputId": "3943761e-ec9a-4569-f167-3c14fccecf4d"
   },
   "outputs": [
    {
     "data": {
      "text/plain": [
       "'\\t\\ttaacattaataaataaggaggctctaatggcactcattagccaatcaatcaagaact'"
      ]
     },
     "execution_count": 8,
     "metadata": {},
     "output_type": "execute_result"
    }
   ],
   "source": [
    "# generate list of DNA sequence\n",
    "sequence = list(data.loc[:, 'Sequence'])\n",
    "sequence[-1]"
   ]
  },
  {
   "cell_type": "code",
   "execution_count": 9,
   "metadata": {
    "colab": {
     "base_uri": "https://localhost:8080/"
    },
    "executionInfo": {
     "elapsed": 18,
     "status": "ok",
     "timestamp": 1642502945919,
     "user": {
      "displayName": "siddharth patra",
      "photoUrl": "https://lh3.googleusercontent.com/a-/AOh14Ggv4lQRGyP7p3T0gn2CLL_T-zAq_F4BJx6kWGs1UA=s64",
      "userId": "01966341811263607507"
     },
     "user_tz": -330
    },
    "id": "Ir8Qgpp2cBG0",
    "outputId": "40f83e27-21f4-4347-dfc8-e232db745e6e"
   },
   "outputs": [
    {
     "data": {
      "text/plain": [
       "['t',\n",
       " 'a',\n",
       " 'c',\n",
       " 't',\n",
       " 'a',\n",
       " 'g',\n",
       " 'c',\n",
       " 'a',\n",
       " 'a',\n",
       " 't',\n",
       " 'a',\n",
       " 'c',\n",
       " 'g',\n",
       " 'c',\n",
       " 't',\n",
       " 't',\n",
       " 'g',\n",
       " 'c',\n",
       " 'g',\n",
       " 't',\n",
       " 't',\n",
       " 'c',\n",
       " 'g',\n",
       " 'g',\n",
       " 't',\n",
       " 'g',\n",
       " 'g',\n",
       " 't',\n",
       " 't',\n",
       " 'a',\n",
       " 'a',\n",
       " 'g',\n",
       " 't',\n",
       " 'a',\n",
       " 't',\n",
       " 'g',\n",
       " 't',\n",
       " 'a',\n",
       " 't',\n",
       " 'a',\n",
       " 'a',\n",
       " 't',\n",
       " 'g',\n",
       " 'c',\n",
       " 'g',\n",
       " 'c',\n",
       " 'g',\n",
       " 'g',\n",
       " 'g',\n",
       " 'c',\n",
       " 't',\n",
       " 't',\n",
       " 'g',\n",
       " 't',\n",
       " 'c',\n",
       " 'g',\n",
       " 't',\n",
       " '+']"
      ]
     },
     "execution_count": 9,
     "metadata": {},
     "output_type": "execute_result"
    }
   ],
   "source": [
    "#Remove tab from each sequence\n",
    "dic = {}\n",
    "for i, seq in enumerate(sequence):\n",
    "    nucleotides = list(seq)\n",
    "    nucleotides = [char for char in nucleotides if char != '\\t']\n",
    "    #append class assignment\n",
    "    nucleotides.append(classes[i])\n",
    "    \n",
    "    dic[i] = nucleotides\n",
    "list(dic[0])"
   ]
  },
  {
   "cell_type": "code",
   "execution_count": 10,
   "metadata": {
    "colab": {
     "base_uri": "https://localhost:8080/",
     "height": 299
    },
    "executionInfo": {
     "elapsed": 16,
     "status": "ok",
     "timestamp": 1642502945919,
     "user": {
      "displayName": "siddharth patra",
      "photoUrl": "https://lh3.googleusercontent.com/a-/AOh14Ggv4lQRGyP7p3T0gn2CLL_T-zAq_F4BJx6kWGs1UA=s64",
      "userId": "01966341811263607507"
     },
     "user_tz": -330
    },
    "id": "Mk53VKnPcN0t",
    "outputId": "bae8f4f0-f2b7-4180-cada-d5d57961a709"
   },
   "outputs": [
    {
     "data": {
      "text/html": [
       "<div>\n",
       "<style scoped>\n",
       "    .dataframe tbody tr th:only-of-type {\n",
       "        vertical-align: middle;\n",
       "    }\n",
       "\n",
       "    .dataframe tbody tr th {\n",
       "        vertical-align: top;\n",
       "    }\n",
       "\n",
       "    .dataframe thead th {\n",
       "        text-align: right;\n",
       "    }\n",
       "</style>\n",
       "<table border=\"1\" class=\"dataframe\">\n",
       "  <thead>\n",
       "    <tr style=\"text-align: right;\">\n",
       "      <th></th>\n",
       "      <th>0</th>\n",
       "      <th>1</th>\n",
       "      <th>2</th>\n",
       "      <th>3</th>\n",
       "      <th>4</th>\n",
       "      <th>5</th>\n",
       "      <th>6</th>\n",
       "      <th>7</th>\n",
       "      <th>8</th>\n",
       "      <th>9</th>\n",
       "      <th>...</th>\n",
       "      <th>96</th>\n",
       "      <th>97</th>\n",
       "      <th>98</th>\n",
       "      <th>99</th>\n",
       "      <th>100</th>\n",
       "      <th>101</th>\n",
       "      <th>102</th>\n",
       "      <th>103</th>\n",
       "      <th>104</th>\n",
       "      <th>105</th>\n",
       "    </tr>\n",
       "  </thead>\n",
       "  <tbody>\n",
       "    <tr>\n",
       "      <th>0</th>\n",
       "      <td>t</td>\n",
       "      <td>t</td>\n",
       "      <td>g</td>\n",
       "      <td>a</td>\n",
       "      <td>t</td>\n",
       "      <td>a</td>\n",
       "      <td>c</td>\n",
       "      <td>t</td>\n",
       "      <td>c</td>\n",
       "      <td>t</td>\n",
       "      <td>...</td>\n",
       "      <td>c</td>\n",
       "      <td>c</td>\n",
       "      <td>t</td>\n",
       "      <td>a</td>\n",
       "      <td>g</td>\n",
       "      <td>c</td>\n",
       "      <td>g</td>\n",
       "      <td>c</td>\n",
       "      <td>c</td>\n",
       "      <td>t</td>\n",
       "    </tr>\n",
       "    <tr>\n",
       "      <th>1</th>\n",
       "      <td>a</td>\n",
       "      <td>g</td>\n",
       "      <td>t</td>\n",
       "      <td>a</td>\n",
       "      <td>c</td>\n",
       "      <td>g</td>\n",
       "      <td>a</td>\n",
       "      <td>t</td>\n",
       "      <td>g</td>\n",
       "      <td>t</td>\n",
       "      <td>...</td>\n",
       "      <td>c</td>\n",
       "      <td>g</td>\n",
       "      <td>a</td>\n",
       "      <td>g</td>\n",
       "      <td>a</td>\n",
       "      <td>c</td>\n",
       "      <td>t</td>\n",
       "      <td>g</td>\n",
       "      <td>t</td>\n",
       "      <td>a</td>\n",
       "    </tr>\n",
       "    <tr>\n",
       "      <th>2</th>\n",
       "      <td>c</td>\n",
       "      <td>c</td>\n",
       "      <td>a</td>\n",
       "      <td>t</td>\n",
       "      <td>g</td>\n",
       "      <td>g</td>\n",
       "      <td>g</td>\n",
       "      <td>t</td>\n",
       "      <td>a</td>\n",
       "      <td>t</td>\n",
       "      <td>...</td>\n",
       "      <td>g</td>\n",
       "      <td>c</td>\n",
       "      <td>t</td>\n",
       "      <td>a</td>\n",
       "      <td>g</td>\n",
       "      <td>t</td>\n",
       "      <td>a</td>\n",
       "      <td>c</td>\n",
       "      <td>c</td>\n",
       "      <td>a</td>\n",
       "    </tr>\n",
       "    <tr>\n",
       "      <th>3</th>\n",
       "      <td>t</td>\n",
       "      <td>t</td>\n",
       "      <td>c</td>\n",
       "      <td>t</td>\n",
       "      <td>a</td>\n",
       "      <td>g</td>\n",
       "      <td>g</td>\n",
       "      <td>c</td>\n",
       "      <td>c</td>\n",
       "      <td>t</td>\n",
       "      <td>...</td>\n",
       "      <td>a</td>\n",
       "      <td>t</td>\n",
       "      <td>g</td>\n",
       "      <td>g</td>\n",
       "      <td>a</td>\n",
       "      <td>c</td>\n",
       "      <td>t</td>\n",
       "      <td>g</td>\n",
       "      <td>g</td>\n",
       "      <td>c</td>\n",
       "    </tr>\n",
       "    <tr>\n",
       "      <th>4</th>\n",
       "      <td>a</td>\n",
       "      <td>a</td>\n",
       "      <td>t</td>\n",
       "      <td>g</td>\n",
       "      <td>t</td>\n",
       "      <td>g</td>\n",
       "      <td>g</td>\n",
       "      <td>t</td>\n",
       "      <td>t</td>\n",
       "      <td>a</td>\n",
       "      <td>...</td>\n",
       "      <td>g</td>\n",
       "      <td>a</td>\n",
       "      <td>a</td>\n",
       "      <td>g</td>\n",
       "      <td>g</td>\n",
       "      <td>a</td>\n",
       "      <td>t</td>\n",
       "      <td>a</td>\n",
       "      <td>t</td>\n",
       "      <td>a</td>\n",
       "    </tr>\n",
       "  </tbody>\n",
       "</table>\n",
       "<p>5 rows × 106 columns</p>\n",
       "</div>"
      ],
      "text/plain": [
       "  0   1   2   3   4   5   6   7   8   9    ... 96  97  98  99  100 101 102  \\\n",
       "0   t   t   g   a   t   a   c   t   c   t  ...   c   c   t   a   g   c   g   \n",
       "1   a   g   t   a   c   g   a   t   g   t  ...   c   g   a   g   a   c   t   \n",
       "2   c   c   a   t   g   g   g   t   a   t  ...   g   c   t   a   g   t   a   \n",
       "3   t   t   c   t   a   g   g   c   c   t  ...   a   t   g   g   a   c   t   \n",
       "4   a   a   t   g   t   g   g   t   t   a  ...   g   a   a   g   g   a   t   \n",
       "\n",
       "  103 104 105  \n",
       "0   c   c   t  \n",
       "1   g   t   a  \n",
       "2   c   c   a  \n",
       "3   g   g   c  \n",
       "4   a   t   a  \n",
       "\n",
       "[5 rows x 106 columns]"
      ]
     },
     "execution_count": 10,
     "metadata": {},
     "output_type": "execute_result"
    }
   ],
   "source": [
    "# Convert Dict object into dataframe\n",
    "df = pd.DataFrame(dic)\n",
    "df.head()"
   ]
  },
  {
   "cell_type": "code",
   "execution_count": 11,
   "metadata": {
    "colab": {
     "base_uri": "https://localhost:8080/",
     "height": 270
    },
    "executionInfo": {
     "elapsed": 16,
     "status": "ok",
     "timestamp": 1642502945920,
     "user": {
      "displayName": "siddharth patra",
      "photoUrl": "https://lh3.googleusercontent.com/a-/AOh14Ggv4lQRGyP7p3T0gn2CLL_T-zAq_F4BJx6kWGs1UA=s64",
      "userId": "01966341811263607507"
     },
     "user_tz": -330
    },
    "id": "waWxQ8bhcSE1",
    "outputId": "5ed6b619-a096-45bf-8612-759fd1d2643a"
   },
   "outputs": [
    {
     "data": {
      "text/html": [
       "<div>\n",
       "<style scoped>\n",
       "    .dataframe tbody tr th:only-of-type {\n",
       "        vertical-align: middle;\n",
       "    }\n",
       "\n",
       "    .dataframe tbody tr th {\n",
       "        vertical-align: top;\n",
       "    }\n",
       "\n",
       "    .dataframe thead th {\n",
       "        text-align: right;\n",
       "    }\n",
       "</style>\n",
       "<table border=\"1\" class=\"dataframe\">\n",
       "  <thead>\n",
       "    <tr style=\"text-align: right;\">\n",
       "      <th></th>\n",
       "      <th>0</th>\n",
       "      <th>1</th>\n",
       "      <th>2</th>\n",
       "      <th>3</th>\n",
       "      <th>4</th>\n",
       "      <th>5</th>\n",
       "      <th>6</th>\n",
       "      <th>7</th>\n",
       "      <th>8</th>\n",
       "      <th>9</th>\n",
       "      <th>...</th>\n",
       "      <th>48</th>\n",
       "      <th>49</th>\n",
       "      <th>50</th>\n",
       "      <th>51</th>\n",
       "      <th>52</th>\n",
       "      <th>53</th>\n",
       "      <th>54</th>\n",
       "      <th>55</th>\n",
       "      <th>56</th>\n",
       "      <th>57</th>\n",
       "    </tr>\n",
       "  </thead>\n",
       "  <tbody>\n",
       "    <tr>\n",
       "      <th>0</th>\n",
       "      <td>t</td>\n",
       "      <td>a</td>\n",
       "      <td>c</td>\n",
       "      <td>t</td>\n",
       "      <td>a</td>\n",
       "      <td>g</td>\n",
       "      <td>c</td>\n",
       "      <td>a</td>\n",
       "      <td>a</td>\n",
       "      <td>t</td>\n",
       "      <td>...</td>\n",
       "      <td>g</td>\n",
       "      <td>c</td>\n",
       "      <td>t</td>\n",
       "      <td>t</td>\n",
       "      <td>g</td>\n",
       "      <td>t</td>\n",
       "      <td>c</td>\n",
       "      <td>g</td>\n",
       "      <td>t</td>\n",
       "      <td>+</td>\n",
       "    </tr>\n",
       "    <tr>\n",
       "      <th>1</th>\n",
       "      <td>t</td>\n",
       "      <td>g</td>\n",
       "      <td>c</td>\n",
       "      <td>t</td>\n",
       "      <td>a</td>\n",
       "      <td>t</td>\n",
       "      <td>c</td>\n",
       "      <td>c</td>\n",
       "      <td>t</td>\n",
       "      <td>g</td>\n",
       "      <td>...</td>\n",
       "      <td>c</td>\n",
       "      <td>a</td>\n",
       "      <td>t</td>\n",
       "      <td>c</td>\n",
       "      <td>g</td>\n",
       "      <td>c</td>\n",
       "      <td>c</td>\n",
       "      <td>a</td>\n",
       "      <td>a</td>\n",
       "      <td>+</td>\n",
       "    </tr>\n",
       "    <tr>\n",
       "      <th>2</th>\n",
       "      <td>g</td>\n",
       "      <td>t</td>\n",
       "      <td>a</td>\n",
       "      <td>c</td>\n",
       "      <td>t</td>\n",
       "      <td>a</td>\n",
       "      <td>g</td>\n",
       "      <td>a</td>\n",
       "      <td>g</td>\n",
       "      <td>a</td>\n",
       "      <td>...</td>\n",
       "      <td>c</td>\n",
       "      <td>a</td>\n",
       "      <td>c</td>\n",
       "      <td>c</td>\n",
       "      <td>c</td>\n",
       "      <td>g</td>\n",
       "      <td>g</td>\n",
       "      <td>c</td>\n",
       "      <td>g</td>\n",
       "      <td>+</td>\n",
       "    </tr>\n",
       "    <tr>\n",
       "      <th>3</th>\n",
       "      <td>a</td>\n",
       "      <td>a</td>\n",
       "      <td>t</td>\n",
       "      <td>t</td>\n",
       "      <td>g</td>\n",
       "      <td>t</td>\n",
       "      <td>g</td>\n",
       "      <td>a</td>\n",
       "      <td>t</td>\n",
       "      <td>g</td>\n",
       "      <td>...</td>\n",
       "      <td>a</td>\n",
       "      <td>a</td>\n",
       "      <td>c</td>\n",
       "      <td>a</td>\n",
       "      <td>a</td>\n",
       "      <td>a</td>\n",
       "      <td>c</td>\n",
       "      <td>t</td>\n",
       "      <td>c</td>\n",
       "      <td>+</td>\n",
       "    </tr>\n",
       "    <tr>\n",
       "      <th>4</th>\n",
       "      <td>t</td>\n",
       "      <td>c</td>\n",
       "      <td>g</td>\n",
       "      <td>a</td>\n",
       "      <td>t</td>\n",
       "      <td>a</td>\n",
       "      <td>a</td>\n",
       "      <td>t</td>\n",
       "      <td>t</td>\n",
       "      <td>a</td>\n",
       "      <td>...</td>\n",
       "      <td>c</td>\n",
       "      <td>c</td>\n",
       "      <td>g</td>\n",
       "      <td>t</td>\n",
       "      <td>g</td>\n",
       "      <td>g</td>\n",
       "      <td>t</td>\n",
       "      <td>a</td>\n",
       "      <td>g</td>\n",
       "      <td>+</td>\n",
       "    </tr>\n",
       "  </tbody>\n",
       "</table>\n",
       "<p>5 rows × 58 columns</p>\n",
       "</div>"
      ],
      "text/plain": [
       "  0  1  2  3  4  5  6  7  8  9   ... 48 49 50 51 52 53 54 55 56 57\n",
       "0  t  a  c  t  a  g  c  a  a  t  ...  g  c  t  t  g  t  c  g  t  +\n",
       "1  t  g  c  t  a  t  c  c  t  g  ...  c  a  t  c  g  c  c  a  a  +\n",
       "2  g  t  a  c  t  a  g  a  g  a  ...  c  a  c  c  c  g  g  c  g  +\n",
       "3  a  a  t  t  g  t  g  a  t  g  ...  a  a  c  a  a  a  c  t  c  +\n",
       "4  t  c  g  a  t  a  a  t  t  a  ...  c  c  g  t  g  g  t  a  g  +\n",
       "\n",
       "[5 rows x 58 columns]"
      ]
     },
     "execution_count": 11,
     "metadata": {},
     "output_type": "execute_result"
    }
   ],
   "source": [
    "# transpose dataframe into correct format\n",
    "df = df.transpose()\n",
    "df.head()"
   ]
  },
  {
   "cell_type": "code",
   "execution_count": 12,
   "metadata": {
    "id": "dJfKOpWocZDO"
   },
   "outputs": [],
   "source": [
    "# Rename the 57th column as it is our classes\n",
    "df.rename(columns = {57:'Class'}, inplace = True)"
   ]
  },
  {
   "cell_type": "code",
   "execution_count": 13,
   "metadata": {
    "colab": {
     "base_uri": "https://localhost:8080/",
     "height": 270
    },
    "executionInfo": {
     "elapsed": 22,
     "status": "ok",
     "timestamp": 1642502946863,
     "user": {
      "displayName": "siddharth patra",
      "photoUrl": "https://lh3.googleusercontent.com/a-/AOh14Ggv4lQRGyP7p3T0gn2CLL_T-zAq_F4BJx6kWGs1UA=s64",
      "userId": "01966341811263607507"
     },
     "user_tz": -330
    },
    "id": "gNiMn4oKcfrb",
    "outputId": "8ce2cda2-dc3f-451a-a8f1-8d906161af58"
   },
   "outputs": [
    {
     "data": {
      "text/html": [
       "<div>\n",
       "<style scoped>\n",
       "    .dataframe tbody tr th:only-of-type {\n",
       "        vertical-align: middle;\n",
       "    }\n",
       "\n",
       "    .dataframe tbody tr th {\n",
       "        vertical-align: top;\n",
       "    }\n",
       "\n",
       "    .dataframe thead th {\n",
       "        text-align: right;\n",
       "    }\n",
       "</style>\n",
       "<table border=\"1\" class=\"dataframe\">\n",
       "  <thead>\n",
       "    <tr style=\"text-align: right;\">\n",
       "      <th></th>\n",
       "      <th>0</th>\n",
       "      <th>1</th>\n",
       "      <th>2</th>\n",
       "      <th>3</th>\n",
       "      <th>4</th>\n",
       "      <th>5</th>\n",
       "      <th>6</th>\n",
       "      <th>7</th>\n",
       "      <th>8</th>\n",
       "      <th>9</th>\n",
       "      <th>...</th>\n",
       "      <th>48</th>\n",
       "      <th>49</th>\n",
       "      <th>50</th>\n",
       "      <th>51</th>\n",
       "      <th>52</th>\n",
       "      <th>53</th>\n",
       "      <th>54</th>\n",
       "      <th>55</th>\n",
       "      <th>56</th>\n",
       "      <th>Class</th>\n",
       "    </tr>\n",
       "  </thead>\n",
       "  <tbody>\n",
       "    <tr>\n",
       "      <th>0</th>\n",
       "      <td>t</td>\n",
       "      <td>a</td>\n",
       "      <td>c</td>\n",
       "      <td>t</td>\n",
       "      <td>a</td>\n",
       "      <td>g</td>\n",
       "      <td>c</td>\n",
       "      <td>a</td>\n",
       "      <td>a</td>\n",
       "      <td>t</td>\n",
       "      <td>...</td>\n",
       "      <td>g</td>\n",
       "      <td>c</td>\n",
       "      <td>t</td>\n",
       "      <td>t</td>\n",
       "      <td>g</td>\n",
       "      <td>t</td>\n",
       "      <td>c</td>\n",
       "      <td>g</td>\n",
       "      <td>t</td>\n",
       "      <td>+</td>\n",
       "    </tr>\n",
       "    <tr>\n",
       "      <th>1</th>\n",
       "      <td>t</td>\n",
       "      <td>g</td>\n",
       "      <td>c</td>\n",
       "      <td>t</td>\n",
       "      <td>a</td>\n",
       "      <td>t</td>\n",
       "      <td>c</td>\n",
       "      <td>c</td>\n",
       "      <td>t</td>\n",
       "      <td>g</td>\n",
       "      <td>...</td>\n",
       "      <td>c</td>\n",
       "      <td>a</td>\n",
       "      <td>t</td>\n",
       "      <td>c</td>\n",
       "      <td>g</td>\n",
       "      <td>c</td>\n",
       "      <td>c</td>\n",
       "      <td>a</td>\n",
       "      <td>a</td>\n",
       "      <td>+</td>\n",
       "    </tr>\n",
       "    <tr>\n",
       "      <th>2</th>\n",
       "      <td>g</td>\n",
       "      <td>t</td>\n",
       "      <td>a</td>\n",
       "      <td>c</td>\n",
       "      <td>t</td>\n",
       "      <td>a</td>\n",
       "      <td>g</td>\n",
       "      <td>a</td>\n",
       "      <td>g</td>\n",
       "      <td>a</td>\n",
       "      <td>...</td>\n",
       "      <td>c</td>\n",
       "      <td>a</td>\n",
       "      <td>c</td>\n",
       "      <td>c</td>\n",
       "      <td>c</td>\n",
       "      <td>g</td>\n",
       "      <td>g</td>\n",
       "      <td>c</td>\n",
       "      <td>g</td>\n",
       "      <td>+</td>\n",
       "    </tr>\n",
       "    <tr>\n",
       "      <th>3</th>\n",
       "      <td>a</td>\n",
       "      <td>a</td>\n",
       "      <td>t</td>\n",
       "      <td>t</td>\n",
       "      <td>g</td>\n",
       "      <td>t</td>\n",
       "      <td>g</td>\n",
       "      <td>a</td>\n",
       "      <td>t</td>\n",
       "      <td>g</td>\n",
       "      <td>...</td>\n",
       "      <td>a</td>\n",
       "      <td>a</td>\n",
       "      <td>c</td>\n",
       "      <td>a</td>\n",
       "      <td>a</td>\n",
       "      <td>a</td>\n",
       "      <td>c</td>\n",
       "      <td>t</td>\n",
       "      <td>c</td>\n",
       "      <td>+</td>\n",
       "    </tr>\n",
       "    <tr>\n",
       "      <th>4</th>\n",
       "      <td>t</td>\n",
       "      <td>c</td>\n",
       "      <td>g</td>\n",
       "      <td>a</td>\n",
       "      <td>t</td>\n",
       "      <td>a</td>\n",
       "      <td>a</td>\n",
       "      <td>t</td>\n",
       "      <td>t</td>\n",
       "      <td>a</td>\n",
       "      <td>...</td>\n",
       "      <td>c</td>\n",
       "      <td>c</td>\n",
       "      <td>g</td>\n",
       "      <td>t</td>\n",
       "      <td>g</td>\n",
       "      <td>g</td>\n",
       "      <td>t</td>\n",
       "      <td>a</td>\n",
       "      <td>g</td>\n",
       "      <td>+</td>\n",
       "    </tr>\n",
       "  </tbody>\n",
       "</table>\n",
       "<p>5 rows × 58 columns</p>\n",
       "</div>"
      ],
      "text/plain": [
       "   0  1  2  3  4  5  6  7  8  9  ... 48 49 50 51 52 53 54 55 56 Class\n",
       "0  t  a  c  t  a  g  c  a  a  t  ...  g  c  t  t  g  t  c  g  t     +\n",
       "1  t  g  c  t  a  t  c  c  t  g  ...  c  a  t  c  g  c  c  a  a     +\n",
       "2  g  t  a  c  t  a  g  a  g  a  ...  c  a  c  c  c  g  g  c  g     +\n",
       "3  a  a  t  t  g  t  g  a  t  g  ...  a  a  c  a  a  a  c  t  c     +\n",
       "4  t  c  g  a  t  a  a  t  t  a  ...  c  c  g  t  g  g  t  a  g     +\n",
       "\n",
       "[5 rows x 58 columns]"
      ]
     },
     "execution_count": 13,
     "metadata": {},
     "output_type": "execute_result"
    }
   ],
   "source": [
    "df.head()"
   ]
  },
  {
   "cell_type": "code",
   "execution_count": 14,
   "metadata": {
    "colab": {
     "base_uri": "https://localhost:8080/",
     "height": 270
    },
    "executionInfo": {
     "elapsed": 20,
     "status": "ok",
     "timestamp": 1642502946863,
     "user": {
      "displayName": "siddharth patra",
      "photoUrl": "https://lh3.googleusercontent.com/a-/AOh14Ggv4lQRGyP7p3T0gn2CLL_T-zAq_F4BJx6kWGs1UA=s64",
      "userId": "01966341811263607507"
     },
     "user_tz": -330
    },
    "id": "rDt8MdXgy31Q",
    "outputId": "a40845a7-97cd-4e1a-8195-252207b9c098"
   },
   "outputs": [
    {
     "data": {
      "text/html": [
       "<div>\n",
       "<style scoped>\n",
       "    .dataframe tbody tr th:only-of-type {\n",
       "        vertical-align: middle;\n",
       "    }\n",
       "\n",
       "    .dataframe tbody tr th {\n",
       "        vertical-align: top;\n",
       "    }\n",
       "\n",
       "    .dataframe thead th {\n",
       "        text-align: right;\n",
       "    }\n",
       "</style>\n",
       "<table border=\"1\" class=\"dataframe\">\n",
       "  <thead>\n",
       "    <tr style=\"text-align: right;\">\n",
       "      <th></th>\n",
       "      <th>0</th>\n",
       "      <th>1</th>\n",
       "      <th>2</th>\n",
       "      <th>3</th>\n",
       "      <th>4</th>\n",
       "      <th>5</th>\n",
       "      <th>6</th>\n",
       "      <th>7</th>\n",
       "      <th>8</th>\n",
       "      <th>9</th>\n",
       "      <th>...</th>\n",
       "      <th>47</th>\n",
       "      <th>48</th>\n",
       "      <th>49</th>\n",
       "      <th>50</th>\n",
       "      <th>51</th>\n",
       "      <th>52</th>\n",
       "      <th>53</th>\n",
       "      <th>54</th>\n",
       "      <th>55</th>\n",
       "      <th>56</th>\n",
       "    </tr>\n",
       "  </thead>\n",
       "  <tbody>\n",
       "    <tr>\n",
       "      <th>0</th>\n",
       "      <td>t</td>\n",
       "      <td>a</td>\n",
       "      <td>c</td>\n",
       "      <td>t</td>\n",
       "      <td>a</td>\n",
       "      <td>g</td>\n",
       "      <td>c</td>\n",
       "      <td>a</td>\n",
       "      <td>a</td>\n",
       "      <td>t</td>\n",
       "      <td>...</td>\n",
       "      <td>g</td>\n",
       "      <td>g</td>\n",
       "      <td>c</td>\n",
       "      <td>t</td>\n",
       "      <td>t</td>\n",
       "      <td>g</td>\n",
       "      <td>t</td>\n",
       "      <td>c</td>\n",
       "      <td>g</td>\n",
       "      <td>t</td>\n",
       "    </tr>\n",
       "    <tr>\n",
       "      <th>1</th>\n",
       "      <td>t</td>\n",
       "      <td>g</td>\n",
       "      <td>c</td>\n",
       "      <td>t</td>\n",
       "      <td>a</td>\n",
       "      <td>t</td>\n",
       "      <td>c</td>\n",
       "      <td>c</td>\n",
       "      <td>t</td>\n",
       "      <td>g</td>\n",
       "      <td>...</td>\n",
       "      <td>g</td>\n",
       "      <td>c</td>\n",
       "      <td>a</td>\n",
       "      <td>t</td>\n",
       "      <td>c</td>\n",
       "      <td>g</td>\n",
       "      <td>c</td>\n",
       "      <td>c</td>\n",
       "      <td>a</td>\n",
       "      <td>a</td>\n",
       "    </tr>\n",
       "    <tr>\n",
       "      <th>2</th>\n",
       "      <td>g</td>\n",
       "      <td>t</td>\n",
       "      <td>a</td>\n",
       "      <td>c</td>\n",
       "      <td>t</td>\n",
       "      <td>a</td>\n",
       "      <td>g</td>\n",
       "      <td>a</td>\n",
       "      <td>g</td>\n",
       "      <td>a</td>\n",
       "      <td>...</td>\n",
       "      <td>c</td>\n",
       "      <td>c</td>\n",
       "      <td>a</td>\n",
       "      <td>c</td>\n",
       "      <td>c</td>\n",
       "      <td>c</td>\n",
       "      <td>g</td>\n",
       "      <td>g</td>\n",
       "      <td>c</td>\n",
       "      <td>g</td>\n",
       "    </tr>\n",
       "    <tr>\n",
       "      <th>3</th>\n",
       "      <td>a</td>\n",
       "      <td>a</td>\n",
       "      <td>t</td>\n",
       "      <td>t</td>\n",
       "      <td>g</td>\n",
       "      <td>t</td>\n",
       "      <td>g</td>\n",
       "      <td>a</td>\n",
       "      <td>t</td>\n",
       "      <td>g</td>\n",
       "      <td>...</td>\n",
       "      <td>t</td>\n",
       "      <td>a</td>\n",
       "      <td>a</td>\n",
       "      <td>c</td>\n",
       "      <td>a</td>\n",
       "      <td>a</td>\n",
       "      <td>a</td>\n",
       "      <td>c</td>\n",
       "      <td>t</td>\n",
       "      <td>c</td>\n",
       "    </tr>\n",
       "    <tr>\n",
       "      <th>4</th>\n",
       "      <td>t</td>\n",
       "      <td>c</td>\n",
       "      <td>g</td>\n",
       "      <td>a</td>\n",
       "      <td>t</td>\n",
       "      <td>a</td>\n",
       "      <td>a</td>\n",
       "      <td>t</td>\n",
       "      <td>t</td>\n",
       "      <td>a</td>\n",
       "      <td>...</td>\n",
       "      <td>t</td>\n",
       "      <td>c</td>\n",
       "      <td>c</td>\n",
       "      <td>g</td>\n",
       "      <td>t</td>\n",
       "      <td>g</td>\n",
       "      <td>g</td>\n",
       "      <td>t</td>\n",
       "      <td>a</td>\n",
       "      <td>g</td>\n",
       "    </tr>\n",
       "  </tbody>\n",
       "</table>\n",
       "<p>5 rows × 57 columns</p>\n",
       "</div>"
      ],
      "text/plain": [
       "  0  1  2  3  4  5  6  7  8  9   ... 47 48 49 50 51 52 53 54 55 56\n",
       "0  t  a  c  t  a  g  c  a  a  t  ...  g  g  c  t  t  g  t  c  g  t\n",
       "1  t  g  c  t  a  t  c  c  t  g  ...  g  c  a  t  c  g  c  c  a  a\n",
       "2  g  t  a  c  t  a  g  a  g  a  ...  c  c  a  c  c  c  g  g  c  g\n",
       "3  a  a  t  t  g  t  g  a  t  g  ...  t  a  a  c  a  a  a  c  t  c\n",
       "4  t  c  g  a  t  a  a  t  t  a  ...  t  c  c  g  t  g  g  t  a  g\n",
       "\n",
       "[5 rows x 57 columns]"
      ]
     },
     "execution_count": 14,
     "metadata": {},
     "output_type": "execute_result"
    }
   ],
   "source": [
    "temp = df.copy(deep=True)\n",
    "temp = temp.drop(['Class'], axis = 1)\n",
    "\n",
    "temp.head()"
   ]
  },
  {
   "cell_type": "code",
   "execution_count": 15,
   "metadata": {
    "colab": {
     "base_uri": "https://localhost:8080/"
    },
    "executionInfo": {
     "elapsed": 19,
     "status": "ok",
     "timestamp": 1642502946864,
     "user": {
      "displayName": "siddharth patra",
      "photoUrl": "https://lh3.googleusercontent.com/a-/AOh14Ggv4lQRGyP7p3T0gn2CLL_T-zAq_F4BJx6kWGs1UA=s64",
      "userId": "01966341811263607507"
     },
     "user_tz": -330
    },
    "id": "j1xrgi4EjWWH",
    "outputId": "f6d3a561-f3b8-4299-dbfd-a592ef3ed9ba"
   },
   "outputs": [
    {
     "name": "stdout",
     "output_type": "stream",
     "text": [
      "[array(['a', 'c', 'g', 't'], dtype=object), array(['a', 'c', 'g', 't'], dtype=object), array(['a', 'c', 'g', 't'], dtype=object), array(['a', 'c', 'g', 't'], dtype=object), array(['a', 'c', 'g', 't'], dtype=object), array(['a', 'c', 'g', 't'], dtype=object), array(['a', 'c', 'g', 't'], dtype=object), array(['a', 'c', 'g', 't'], dtype=object), array(['a', 'c', 'g', 't'], dtype=object), array(['a', 'c', 'g', 't'], dtype=object), array(['a', 'c', 'g', 't'], dtype=object), array(['a', 'c', 'g', 't'], dtype=object), array(['a', 'c', 'g', 't'], dtype=object), array(['a', 'c', 'g', 't'], dtype=object), array(['a', 'c', 'g', 't'], dtype=object), array(['a', 'c', 'g', 't'], dtype=object), array(['a', 'c', 'g', 't'], dtype=object), array(['a', 'c', 'g', 't'], dtype=object), array(['a', 'c', 'g', 't'], dtype=object), array(['a', 'c', 'g', 't'], dtype=object), array(['a', 'c', 'g', 't'], dtype=object), array(['a', 'c', 'g', 't'], dtype=object), array(['a', 'c', 'g', 't'], dtype=object), array(['a', 'c', 'g', 't'], dtype=object), array(['a', 'c', 'g', 't'], dtype=object), array(['a', 'c', 'g', 't'], dtype=object), array(['a', 'c', 'g', 't'], dtype=object), array(['a', 'c', 'g', 't'], dtype=object), array(['a', 'c', 'g', 't'], dtype=object), array(['a', 'c', 'g', 't'], dtype=object), array(['a', 'c', 'g', 't'], dtype=object), array(['a', 'c', 'g', 't'], dtype=object), array(['a', 'c', 'g', 't'], dtype=object), array(['a', 'c', 'g', 't'], dtype=object), array(['a', 'c', 'g', 't'], dtype=object), array(['a', 'c', 'g', 't'], dtype=object), array(['a', 'c', 'g', 't'], dtype=object), array(['a', 'c', 'g', 't'], dtype=object), array(['a', 'c', 'g', 't'], dtype=object), array(['a', 'c', 'g', 't'], dtype=object), array(['a', 'c', 'g', 't'], dtype=object), array(['a', 'c', 'g', 't'], dtype=object), array(['a', 'c', 'g', 't'], dtype=object), array(['a', 'c', 'g', 't'], dtype=object), array(['a', 'c', 'g', 't'], dtype=object), array(['a', 'c', 'g', 't'], dtype=object), array(['a', 'c', 'g', 't'], dtype=object), array(['a', 'c', 'g', 't'], dtype=object), array(['a', 'c', 'g', 't'], dtype=object), array(['a', 'c', 'g', 't'], dtype=object), array(['a', 'c', 'g', 't'], dtype=object), array(['a', 'c', 'g', 't'], dtype=object), array(['a', 'c', 'g', 't'], dtype=object), array(['a', 'c', 'g', 't'], dtype=object), array(['a', 'c', 'g', 't'], dtype=object), array(['a', 'c', 'g', 't'], dtype=object), array(['a', 'c', 'g', 't'], dtype=object)]\n"
     ]
    }
   ],
   "source": [
    "# Encoding using one-hot encoder:\n",
    "\n",
    "enc = OneHotEncoder(handle_unknown='ignore')\n",
    "enc.fit(temp)\n",
    "print(enc.categories_)\n",
    "df1 = enc.transform(temp).toarray()\n",
    "del temp\n",
    "# df1[1:3]"
   ]
  },
  {
   "cell_type": "code",
   "execution_count": 16,
   "metadata": {
    "id": "duM_lP-alHU7"
   },
   "outputs": [],
   "source": [
    "# Saving the one-hot encoder\n",
    "\n",
    "with open(\"EColi-encoder.plk\",\"wb\") as f: \n",
    "    pickle.dump(enc, f)\n",
    "\n",
    "# Loading the file later:\n",
    "# encoder = pickle.load(f) \n",
    "# data = encoder.transform(df).toarray()"
   ]
  },
  {
   "cell_type": "code",
   "execution_count": 17,
   "metadata": {
    "colab": {
     "base_uri": "https://localhost:8080/",
     "height": 299
    },
    "executionInfo": {
     "elapsed": 17,
     "status": "ok",
     "timestamp": 1642502946865,
     "user": {
      "displayName": "siddharth patra",
      "photoUrl": "https://lh3.googleusercontent.com/a-/AOh14Ggv4lQRGyP7p3T0gn2CLL_T-zAq_F4BJx6kWGs1UA=s64",
      "userId": "01966341811263607507"
     },
     "user_tz": -330
    },
    "id": "PG-JVE1mkE_a",
    "outputId": "d9853f92-efa3-4a98-c405-68be9bcea0f1"
   },
   "outputs": [
    {
     "data": {
      "text/html": [
       "<div>\n",
       "<style scoped>\n",
       "    .dataframe tbody tr th:only-of-type {\n",
       "        vertical-align: middle;\n",
       "    }\n",
       "\n",
       "    .dataframe tbody tr th {\n",
       "        vertical-align: top;\n",
       "    }\n",
       "\n",
       "    .dataframe thead th {\n",
       "        text-align: right;\n",
       "    }\n",
       "</style>\n",
       "<table border=\"1\" class=\"dataframe\">\n",
       "  <thead>\n",
       "    <tr style=\"text-align: right;\">\n",
       "      <th></th>\n",
       "      <th>0</th>\n",
       "      <th>1</th>\n",
       "      <th>2</th>\n",
       "      <th>3</th>\n",
       "      <th>4</th>\n",
       "      <th>5</th>\n",
       "      <th>6</th>\n",
       "      <th>7</th>\n",
       "      <th>8</th>\n",
       "      <th>9</th>\n",
       "      <th>...</th>\n",
       "      <th>218</th>\n",
       "      <th>219</th>\n",
       "      <th>220</th>\n",
       "      <th>221</th>\n",
       "      <th>222</th>\n",
       "      <th>223</th>\n",
       "      <th>224</th>\n",
       "      <th>225</th>\n",
       "      <th>226</th>\n",
       "      <th>227</th>\n",
       "    </tr>\n",
       "  </thead>\n",
       "  <tbody>\n",
       "    <tr>\n",
       "      <th>0</th>\n",
       "      <td>0.0</td>\n",
       "      <td>0.0</td>\n",
       "      <td>0.0</td>\n",
       "      <td>1.0</td>\n",
       "      <td>1.0</td>\n",
       "      <td>0.0</td>\n",
       "      <td>0.0</td>\n",
       "      <td>0.0</td>\n",
       "      <td>0.0</td>\n",
       "      <td>1.0</td>\n",
       "      <td>...</td>\n",
       "      <td>0.0</td>\n",
       "      <td>0.0</td>\n",
       "      <td>0.0</td>\n",
       "      <td>0.0</td>\n",
       "      <td>1.0</td>\n",
       "      <td>0.0</td>\n",
       "      <td>0.0</td>\n",
       "      <td>0.0</td>\n",
       "      <td>0.0</td>\n",
       "      <td>1.0</td>\n",
       "    </tr>\n",
       "    <tr>\n",
       "      <th>1</th>\n",
       "      <td>0.0</td>\n",
       "      <td>0.0</td>\n",
       "      <td>0.0</td>\n",
       "      <td>1.0</td>\n",
       "      <td>0.0</td>\n",
       "      <td>0.0</td>\n",
       "      <td>1.0</td>\n",
       "      <td>0.0</td>\n",
       "      <td>0.0</td>\n",
       "      <td>1.0</td>\n",
       "      <td>...</td>\n",
       "      <td>0.0</td>\n",
       "      <td>0.0</td>\n",
       "      <td>1.0</td>\n",
       "      <td>0.0</td>\n",
       "      <td>0.0</td>\n",
       "      <td>0.0</td>\n",
       "      <td>1.0</td>\n",
       "      <td>0.0</td>\n",
       "      <td>0.0</td>\n",
       "      <td>0.0</td>\n",
       "    </tr>\n",
       "    <tr>\n",
       "      <th>2</th>\n",
       "      <td>0.0</td>\n",
       "      <td>0.0</td>\n",
       "      <td>1.0</td>\n",
       "      <td>0.0</td>\n",
       "      <td>0.0</td>\n",
       "      <td>0.0</td>\n",
       "      <td>0.0</td>\n",
       "      <td>1.0</td>\n",
       "      <td>1.0</td>\n",
       "      <td>0.0</td>\n",
       "      <td>...</td>\n",
       "      <td>1.0</td>\n",
       "      <td>0.0</td>\n",
       "      <td>0.0</td>\n",
       "      <td>1.0</td>\n",
       "      <td>0.0</td>\n",
       "      <td>0.0</td>\n",
       "      <td>0.0</td>\n",
       "      <td>0.0</td>\n",
       "      <td>1.0</td>\n",
       "      <td>0.0</td>\n",
       "    </tr>\n",
       "    <tr>\n",
       "      <th>3</th>\n",
       "      <td>1.0</td>\n",
       "      <td>0.0</td>\n",
       "      <td>0.0</td>\n",
       "      <td>0.0</td>\n",
       "      <td>1.0</td>\n",
       "      <td>0.0</td>\n",
       "      <td>0.0</td>\n",
       "      <td>0.0</td>\n",
       "      <td>0.0</td>\n",
       "      <td>0.0</td>\n",
       "      <td>...</td>\n",
       "      <td>0.0</td>\n",
       "      <td>0.0</td>\n",
       "      <td>0.0</td>\n",
       "      <td>0.0</td>\n",
       "      <td>0.0</td>\n",
       "      <td>1.0</td>\n",
       "      <td>0.0</td>\n",
       "      <td>1.0</td>\n",
       "      <td>0.0</td>\n",
       "      <td>0.0</td>\n",
       "    </tr>\n",
       "    <tr>\n",
       "      <th>4</th>\n",
       "      <td>0.0</td>\n",
       "      <td>0.0</td>\n",
       "      <td>0.0</td>\n",
       "      <td>1.0</td>\n",
       "      <td>0.0</td>\n",
       "      <td>1.0</td>\n",
       "      <td>0.0</td>\n",
       "      <td>0.0</td>\n",
       "      <td>0.0</td>\n",
       "      <td>0.0</td>\n",
       "      <td>...</td>\n",
       "      <td>0.0</td>\n",
       "      <td>1.0</td>\n",
       "      <td>1.0</td>\n",
       "      <td>0.0</td>\n",
       "      <td>0.0</td>\n",
       "      <td>0.0</td>\n",
       "      <td>0.0</td>\n",
       "      <td>0.0</td>\n",
       "      <td>1.0</td>\n",
       "      <td>0.0</td>\n",
       "    </tr>\n",
       "  </tbody>\n",
       "</table>\n",
       "<p>5 rows × 228 columns</p>\n",
       "</div>"
      ],
      "text/plain": [
       "   0    1    2    3    4    5    6    7    8    9    ...  218  219  220  221  \\\n",
       "0  0.0  0.0  0.0  1.0  1.0  0.0  0.0  0.0  0.0  1.0  ...  0.0  0.0  0.0  0.0   \n",
       "1  0.0  0.0  0.0  1.0  0.0  0.0  1.0  0.0  0.0  1.0  ...  0.0  0.0  1.0  0.0   \n",
       "2  0.0  0.0  1.0  0.0  0.0  0.0  0.0  1.0  1.0  0.0  ...  1.0  0.0  0.0  1.0   \n",
       "3  1.0  0.0  0.0  0.0  1.0  0.0  0.0  0.0  0.0  0.0  ...  0.0  0.0  0.0  0.0   \n",
       "4  0.0  0.0  0.0  1.0  0.0  1.0  0.0  0.0  0.0  0.0  ...  0.0  1.0  1.0  0.0   \n",
       "\n",
       "   222  223  224  225  226  227  \n",
       "0  1.0  0.0  0.0  0.0  0.0  1.0  \n",
       "1  0.0  0.0  1.0  0.0  0.0  0.0  \n",
       "2  0.0  0.0  0.0  0.0  1.0  0.0  \n",
       "3  0.0  1.0  0.0  1.0  0.0  0.0  \n",
       "4  0.0  0.0  0.0  0.0  1.0  0.0  \n",
       "\n",
       "[5 rows x 228 columns]"
      ]
     },
     "execution_count": 17,
     "metadata": {},
     "output_type": "execute_result"
    }
   ],
   "source": [
    "df_new = pd.DataFrame(df1)\n",
    "df_new.head()"
   ]
  },
  {
   "cell_type": "code",
   "execution_count": 18,
   "metadata": {
    "colab": {
     "base_uri": "https://localhost:8080/",
     "height": 299
    },
    "executionInfo": {
     "elapsed": 16,
     "status": "ok",
     "timestamp": 1642502946865,
     "user": {
      "displayName": "siddharth patra",
      "photoUrl": "https://lh3.googleusercontent.com/a-/AOh14Ggv4lQRGyP7p3T0gn2CLL_T-zAq_F4BJx6kWGs1UA=s64",
      "userId": "01966341811263607507"
     },
     "user_tz": -330
    },
    "id": "fg8ECaM0xFle",
    "outputId": "8cbb0a8f-9d96-468b-9a8c-53b43507ce04"
   },
   "outputs": [
    {
     "data": {
      "text/html": [
       "<div>\n",
       "<style scoped>\n",
       "    .dataframe tbody tr th:only-of-type {\n",
       "        vertical-align: middle;\n",
       "    }\n",
       "\n",
       "    .dataframe tbody tr th {\n",
       "        vertical-align: top;\n",
       "    }\n",
       "\n",
       "    .dataframe thead th {\n",
       "        text-align: right;\n",
       "    }\n",
       "</style>\n",
       "<table border=\"1\" class=\"dataframe\">\n",
       "  <thead>\n",
       "    <tr style=\"text-align: right;\">\n",
       "      <th></th>\n",
       "      <th>0</th>\n",
       "      <th>1</th>\n",
       "      <th>2</th>\n",
       "      <th>3</th>\n",
       "      <th>4</th>\n",
       "      <th>5</th>\n",
       "      <th>6</th>\n",
       "      <th>7</th>\n",
       "      <th>8</th>\n",
       "      <th>9</th>\n",
       "      <th>...</th>\n",
       "      <th>219</th>\n",
       "      <th>220</th>\n",
       "      <th>221</th>\n",
       "      <th>222</th>\n",
       "      <th>223</th>\n",
       "      <th>224</th>\n",
       "      <th>225</th>\n",
       "      <th>226</th>\n",
       "      <th>227</th>\n",
       "      <th>Classes</th>\n",
       "    </tr>\n",
       "  </thead>\n",
       "  <tbody>\n",
       "    <tr>\n",
       "      <th>0</th>\n",
       "      <td>0.0</td>\n",
       "      <td>0.0</td>\n",
       "      <td>0.0</td>\n",
       "      <td>1.0</td>\n",
       "      <td>1.0</td>\n",
       "      <td>0.0</td>\n",
       "      <td>0.0</td>\n",
       "      <td>0.0</td>\n",
       "      <td>0.0</td>\n",
       "      <td>1.0</td>\n",
       "      <td>...</td>\n",
       "      <td>0.0</td>\n",
       "      <td>0.0</td>\n",
       "      <td>0.0</td>\n",
       "      <td>1.0</td>\n",
       "      <td>0.0</td>\n",
       "      <td>0.0</td>\n",
       "      <td>0.0</td>\n",
       "      <td>0.0</td>\n",
       "      <td>1.0</td>\n",
       "      <td>1</td>\n",
       "    </tr>\n",
       "    <tr>\n",
       "      <th>1</th>\n",
       "      <td>0.0</td>\n",
       "      <td>0.0</td>\n",
       "      <td>0.0</td>\n",
       "      <td>1.0</td>\n",
       "      <td>0.0</td>\n",
       "      <td>0.0</td>\n",
       "      <td>1.0</td>\n",
       "      <td>0.0</td>\n",
       "      <td>0.0</td>\n",
       "      <td>1.0</td>\n",
       "      <td>...</td>\n",
       "      <td>0.0</td>\n",
       "      <td>1.0</td>\n",
       "      <td>0.0</td>\n",
       "      <td>0.0</td>\n",
       "      <td>0.0</td>\n",
       "      <td>1.0</td>\n",
       "      <td>0.0</td>\n",
       "      <td>0.0</td>\n",
       "      <td>0.0</td>\n",
       "      <td>1</td>\n",
       "    </tr>\n",
       "    <tr>\n",
       "      <th>2</th>\n",
       "      <td>0.0</td>\n",
       "      <td>0.0</td>\n",
       "      <td>1.0</td>\n",
       "      <td>0.0</td>\n",
       "      <td>0.0</td>\n",
       "      <td>0.0</td>\n",
       "      <td>0.0</td>\n",
       "      <td>1.0</td>\n",
       "      <td>1.0</td>\n",
       "      <td>0.0</td>\n",
       "      <td>...</td>\n",
       "      <td>0.0</td>\n",
       "      <td>0.0</td>\n",
       "      <td>1.0</td>\n",
       "      <td>0.0</td>\n",
       "      <td>0.0</td>\n",
       "      <td>0.0</td>\n",
       "      <td>0.0</td>\n",
       "      <td>1.0</td>\n",
       "      <td>0.0</td>\n",
       "      <td>1</td>\n",
       "    </tr>\n",
       "    <tr>\n",
       "      <th>3</th>\n",
       "      <td>1.0</td>\n",
       "      <td>0.0</td>\n",
       "      <td>0.0</td>\n",
       "      <td>0.0</td>\n",
       "      <td>1.0</td>\n",
       "      <td>0.0</td>\n",
       "      <td>0.0</td>\n",
       "      <td>0.0</td>\n",
       "      <td>0.0</td>\n",
       "      <td>0.0</td>\n",
       "      <td>...</td>\n",
       "      <td>0.0</td>\n",
       "      <td>0.0</td>\n",
       "      <td>0.0</td>\n",
       "      <td>0.0</td>\n",
       "      <td>1.0</td>\n",
       "      <td>0.0</td>\n",
       "      <td>1.0</td>\n",
       "      <td>0.0</td>\n",
       "      <td>0.0</td>\n",
       "      <td>1</td>\n",
       "    </tr>\n",
       "    <tr>\n",
       "      <th>4</th>\n",
       "      <td>0.0</td>\n",
       "      <td>0.0</td>\n",
       "      <td>0.0</td>\n",
       "      <td>1.0</td>\n",
       "      <td>0.0</td>\n",
       "      <td>1.0</td>\n",
       "      <td>0.0</td>\n",
       "      <td>0.0</td>\n",
       "      <td>0.0</td>\n",
       "      <td>0.0</td>\n",
       "      <td>...</td>\n",
       "      <td>1.0</td>\n",
       "      <td>1.0</td>\n",
       "      <td>0.0</td>\n",
       "      <td>0.0</td>\n",
       "      <td>0.0</td>\n",
       "      <td>0.0</td>\n",
       "      <td>0.0</td>\n",
       "      <td>1.0</td>\n",
       "      <td>0.0</td>\n",
       "      <td>1</td>\n",
       "    </tr>\n",
       "  </tbody>\n",
       "</table>\n",
       "<p>5 rows × 229 columns</p>\n",
       "</div>"
      ],
      "text/plain": [
       "     0    1    2    3    4    5    6    7    8    9  ...  219  220  221  222  \\\n",
       "0  0.0  0.0  0.0  1.0  1.0  0.0  0.0  0.0  0.0  1.0  ...  0.0  0.0  0.0  1.0   \n",
       "1  0.0  0.0  0.0  1.0  0.0  0.0  1.0  0.0  0.0  1.0  ...  0.0  1.0  0.0  0.0   \n",
       "2  0.0  0.0  1.0  0.0  0.0  0.0  0.0  1.0  1.0  0.0  ...  0.0  0.0  1.0  0.0   \n",
       "3  1.0  0.0  0.0  0.0  1.0  0.0  0.0  0.0  0.0  0.0  ...  0.0  0.0  0.0  0.0   \n",
       "4  0.0  0.0  0.0  1.0  0.0  1.0  0.0  0.0  0.0  0.0  ...  1.0  1.0  0.0  0.0   \n",
       "\n",
       "   223  224  225  226  227  Classes  \n",
       "0  0.0  0.0  0.0  0.0  1.0        1  \n",
       "1  0.0  1.0  0.0  0.0  0.0        1  \n",
       "2  0.0  0.0  0.0  1.0  0.0        1  \n",
       "3  1.0  0.0  1.0  0.0  0.0        1  \n",
       "4  0.0  0.0  0.0  1.0  0.0        1  \n",
       "\n",
       "[5 rows x 229 columns]"
      ]
     },
     "execution_count": 18,
     "metadata": {},
     "output_type": "execute_result"
    }
   ],
   "source": [
    "# Fixing the classes column:\n",
    "\n",
    "df[\"Class\"] = df[\"Class\"].replace(to_replace =[\"+\"], value =1)\n",
    "df[\"Class\"] = df[\"Class\"].replace(to_replace =[\"-\"], value =0)\n",
    "df_new[\"Classes\"] = df['Class']\n",
    "df_new.head()"
   ]
  },
  {
   "cell_type": "code",
   "execution_count": 19,
   "metadata": {
    "colab": {
     "base_uri": "https://localhost:8080/",
     "height": 299
    },
    "executionInfo": {
     "elapsed": 16,
     "status": "ok",
     "timestamp": 1642502946866,
     "user": {
      "displayName": "siddharth patra",
      "photoUrl": "https://lh3.googleusercontent.com/a-/AOh14Ggv4lQRGyP7p3T0gn2CLL_T-zAq_F4BJx6kWGs1UA=s64",
      "userId": "01966341811263607507"
     },
     "user_tz": -330
    },
    "id": "bF1QwXEociUL",
    "outputId": "77699abc-2ee1-4f0a-a23a-359803f91ec1"
   },
   "outputs": [
    {
     "data": {
      "text/html": [
       "<div>\n",
       "<style scoped>\n",
       "    .dataframe tbody tr th:only-of-type {\n",
       "        vertical-align: middle;\n",
       "    }\n",
       "\n",
       "    .dataframe tbody tr th {\n",
       "        vertical-align: top;\n",
       "    }\n",
       "\n",
       "    .dataframe thead th {\n",
       "        text-align: right;\n",
       "    }\n",
       "</style>\n",
       "<table border=\"1\" class=\"dataframe\">\n",
       "  <thead>\n",
       "    <tr style=\"text-align: right;\">\n",
       "      <th></th>\n",
       "      <th>Class</th>\n",
       "      <th>0_a</th>\n",
       "      <th>0_c</th>\n",
       "      <th>0_g</th>\n",
       "      <th>0_t</th>\n",
       "      <th>1_a</th>\n",
       "      <th>1_c</th>\n",
       "      <th>1_g</th>\n",
       "      <th>1_t</th>\n",
       "      <th>2_a</th>\n",
       "      <th>...</th>\n",
       "      <th>54_g</th>\n",
       "      <th>54_t</th>\n",
       "      <th>55_a</th>\n",
       "      <th>55_c</th>\n",
       "      <th>55_g</th>\n",
       "      <th>55_t</th>\n",
       "      <th>56_a</th>\n",
       "      <th>56_c</th>\n",
       "      <th>56_g</th>\n",
       "      <th>56_t</th>\n",
       "    </tr>\n",
       "  </thead>\n",
       "  <tbody>\n",
       "    <tr>\n",
       "      <th>0</th>\n",
       "      <td>1</td>\n",
       "      <td>0</td>\n",
       "      <td>0</td>\n",
       "      <td>0</td>\n",
       "      <td>1</td>\n",
       "      <td>1</td>\n",
       "      <td>0</td>\n",
       "      <td>0</td>\n",
       "      <td>0</td>\n",
       "      <td>0</td>\n",
       "      <td>...</td>\n",
       "      <td>0</td>\n",
       "      <td>0</td>\n",
       "      <td>0</td>\n",
       "      <td>0</td>\n",
       "      <td>1</td>\n",
       "      <td>0</td>\n",
       "      <td>0</td>\n",
       "      <td>0</td>\n",
       "      <td>0</td>\n",
       "      <td>1</td>\n",
       "    </tr>\n",
       "    <tr>\n",
       "      <th>1</th>\n",
       "      <td>1</td>\n",
       "      <td>0</td>\n",
       "      <td>0</td>\n",
       "      <td>0</td>\n",
       "      <td>1</td>\n",
       "      <td>0</td>\n",
       "      <td>0</td>\n",
       "      <td>1</td>\n",
       "      <td>0</td>\n",
       "      <td>0</td>\n",
       "      <td>...</td>\n",
       "      <td>0</td>\n",
       "      <td>0</td>\n",
       "      <td>1</td>\n",
       "      <td>0</td>\n",
       "      <td>0</td>\n",
       "      <td>0</td>\n",
       "      <td>1</td>\n",
       "      <td>0</td>\n",
       "      <td>0</td>\n",
       "      <td>0</td>\n",
       "    </tr>\n",
       "    <tr>\n",
       "      <th>2</th>\n",
       "      <td>1</td>\n",
       "      <td>0</td>\n",
       "      <td>0</td>\n",
       "      <td>1</td>\n",
       "      <td>0</td>\n",
       "      <td>0</td>\n",
       "      <td>0</td>\n",
       "      <td>0</td>\n",
       "      <td>1</td>\n",
       "      <td>1</td>\n",
       "      <td>...</td>\n",
       "      <td>1</td>\n",
       "      <td>0</td>\n",
       "      <td>0</td>\n",
       "      <td>1</td>\n",
       "      <td>0</td>\n",
       "      <td>0</td>\n",
       "      <td>0</td>\n",
       "      <td>0</td>\n",
       "      <td>1</td>\n",
       "      <td>0</td>\n",
       "    </tr>\n",
       "    <tr>\n",
       "      <th>3</th>\n",
       "      <td>1</td>\n",
       "      <td>1</td>\n",
       "      <td>0</td>\n",
       "      <td>0</td>\n",
       "      <td>0</td>\n",
       "      <td>1</td>\n",
       "      <td>0</td>\n",
       "      <td>0</td>\n",
       "      <td>0</td>\n",
       "      <td>0</td>\n",
       "      <td>...</td>\n",
       "      <td>0</td>\n",
       "      <td>0</td>\n",
       "      <td>0</td>\n",
       "      <td>0</td>\n",
       "      <td>0</td>\n",
       "      <td>1</td>\n",
       "      <td>0</td>\n",
       "      <td>1</td>\n",
       "      <td>0</td>\n",
       "      <td>0</td>\n",
       "    </tr>\n",
       "    <tr>\n",
       "      <th>4</th>\n",
       "      <td>1</td>\n",
       "      <td>0</td>\n",
       "      <td>0</td>\n",
       "      <td>0</td>\n",
       "      <td>1</td>\n",
       "      <td>0</td>\n",
       "      <td>1</td>\n",
       "      <td>0</td>\n",
       "      <td>0</td>\n",
       "      <td>0</td>\n",
       "      <td>...</td>\n",
       "      <td>0</td>\n",
       "      <td>1</td>\n",
       "      <td>1</td>\n",
       "      <td>0</td>\n",
       "      <td>0</td>\n",
       "      <td>0</td>\n",
       "      <td>0</td>\n",
       "      <td>0</td>\n",
       "      <td>1</td>\n",
       "      <td>0</td>\n",
       "    </tr>\n",
       "  </tbody>\n",
       "</table>\n",
       "<p>5 rows × 229 columns</p>\n",
       "</div>"
      ],
      "text/plain": [
       "   Class  0_a  0_c  0_g  0_t  1_a  1_c  1_g  1_t  2_a  ...  54_g  54_t  55_a  \\\n",
       "0      1    0    0    0    1    1    0    0    0    0  ...     0     0     0   \n",
       "1      1    0    0    0    1    0    0    1    0    0  ...     0     0     1   \n",
       "2      1    0    0    1    0    0    0    0    1    1  ...     1     0     0   \n",
       "3      1    1    0    0    0    1    0    0    0    0  ...     0     0     0   \n",
       "4      1    0    0    0    1    0    1    0    0    0  ...     0     1     1   \n",
       "\n",
       "   55_c  55_g  55_t  56_a  56_c  56_g  56_t  \n",
       "0     0     1     0     0     0     0     1  \n",
       "1     0     0     0     1     0     0     0  \n",
       "2     1     0     0     0     0     1     0  \n",
       "3     0     0     1     0     1     0     0  \n",
       "4     0     0     0     0     0     1     0  \n",
       "\n",
       "[5 rows x 229 columns]"
      ]
     },
     "execution_count": 19,
     "metadata": {},
     "output_type": "execute_result"
    }
   ],
   "source": [
    "#Encoding - Alternative\n",
    "numerical_df = pd.get_dummies(df)\n",
    "numerical_df.head()"
   ]
  },
  {
   "cell_type": "code",
   "execution_count": 20,
   "metadata": {
    "id": "KI5NkuhmdTw1"
   },
   "outputs": [],
   "source": [
    "# Training and Testing the Classification Algorithms"
   ]
  },
  {
   "cell_type": "code",
   "execution_count": 21,
   "metadata": {
    "id": "OyZfAwzieBDk"
   },
   "outputs": [],
   "source": [
    "y = df_new['Classes'].values# numerical_df['Class'].values\n",
    "X = df_new.drop(['Classes'], axis = 1).values# numerical_df.drop(['Class'], axis = 1).values\n",
    "\n",
    "#define a seed for reproducibility\n",
    "seed = 1\n",
    "\n",
    "# Splitting data into training and testing data\n",
    "X_train, X_test, y_train, y_test = train_test_split(X, y, test_size = 0.25, random_state = seed)"
   ]
  },
  {
   "cell_type": "code",
   "execution_count": 22,
   "metadata": {
    "colab": {
     "base_uri": "https://localhost:8080/"
    },
    "executionInfo": {
     "elapsed": 934,
     "status": "ok",
     "timestamp": 1642502947786,
     "user": {
      "displayName": "siddharth patra",
      "photoUrl": "https://lh3.googleusercontent.com/a-/AOh14Ggv4lQRGyP7p3T0gn2CLL_T-zAq_F4BJx6kWGs1UA=s64",
      "userId": "01966341811263607507"
     },
     "user_tz": -330
    },
    "id": "T4jnyeNNeHrq",
    "outputId": "07a48514-43c6-4570-ed45-534cdac51aa5"
   },
   "outputs": [
    {
     "name": "stdout",
     "output_type": "stream",
     "text": [
      "1.0\n"
     ]
    }
   ],
   "source": [
    "model = MLPClassifier(hidden_layer_sizes=(150,100,50), max_iter=300,activation = 'relu',solver='adam',random_state=1)\n",
    "\n",
    "model.fit(X_train, y_train)\n",
    "print(model.score(X_train, y_train))"
   ]
  },
  {
   "cell_type": "code",
   "execution_count": 23,
   "metadata": {
    "colab": {
     "base_uri": "https://localhost:8080/"
    },
    "executionInfo": {
     "elapsed": 29,
     "status": "ok",
     "timestamp": 1642502947786,
     "user": {
      "displayName": "siddharth patra",
      "photoUrl": "https://lh3.googleusercontent.com/a-/AOh14Ggv4lQRGyP7p3T0gn2CLL_T-zAq_F4BJx6kWGs1UA=s64",
      "userId": "01966341811263607507"
     },
     "user_tz": -330
    },
    "id": "XpZ6xwNsfYKO",
    "outputId": "9af1d73c-a659-41b6-f80d-68cefec61627"
   },
   "outputs": [
    {
     "data": {
      "text/plain": [
       "0.9259259259259259"
      ]
     },
     "execution_count": 23,
     "metadata": {},
     "output_type": "execute_result"
    }
   ],
   "source": [
    "#Predicting y for X_val\n",
    "y_pred = model.predict(X_test)\n",
    "model.score(X_test, y_test)"
   ]
  },
  {
   "cell_type": "code",
   "execution_count": 24,
   "metadata": {
    "colab": {
     "base_uri": "https://localhost:8080/"
    },
    "executionInfo": {
     "elapsed": 28,
     "status": "ok",
     "timestamp": 1642502947787,
     "user": {
      "displayName": "siddharth patra",
      "photoUrl": "https://lh3.googleusercontent.com/a-/AOh14Ggv4lQRGyP7p3T0gn2CLL_T-zAq_F4BJx6kWGs1UA=s64",
      "userId": "01966341811263607507"
     },
     "user_tz": -330
    },
    "id": "ESHL7T3WgVI5",
    "outputId": "2eea2812-4f7e-47de-e3a0-db67d3d713e3"
   },
   "outputs": [
    {
     "name": "stdout",
     "output_type": "stream",
     "text": [
      "              precision    recall  f1-score   support\n",
      "\n",
      "           0       1.00      0.88      0.94        17\n",
      "           1       0.83      1.00      0.91        10\n",
      "\n",
      "    accuracy                           0.93        27\n",
      "   macro avg       0.92      0.94      0.92        27\n",
      "weighted avg       0.94      0.93      0.93        27\n",
      "\n"
     ]
    }
   ],
   "source": [
    "# Model evaluation\n",
    "print(classification_report(y_test, y_pred))"
   ]
  },
  {
   "cell_type": "code",
   "execution_count": 25,
   "metadata": {
    "colab": {
     "base_uri": "https://localhost:8080/",
     "height": 283
    },
    "executionInfo": {
     "elapsed": 26,
     "status": "ok",
     "timestamp": 1642502947788,
     "user": {
      "displayName": "siddharth patra",
      "photoUrl": "https://lh3.googleusercontent.com/a-/AOh14Ggv4lQRGyP7p3T0gn2CLL_T-zAq_F4BJx6kWGs1UA=s64",
      "userId": "01966341811263607507"
     },
     "user_tz": -330
    },
    "id": "EBtMlUp5e4pF",
    "outputId": "84215103-1ca9-4812-d29c-b999ff095aa3"
   },
   "outputs": [
    {
     "data": {
      "text/plain": [
       "<AxesSubplot:>"
      ]
     },
     "execution_count": 25,
     "metadata": {},
     "output_type": "execute_result"
    },
    {
     "data": {
      "image/png": "[encoded data removed]",
      "text/plain": [
       "<Figure size 640x480 with 2 Axes>"
      ]
     },
     "metadata": {},
     "output_type": "display_data"
    }
   ],
   "source": [
    "#Importing Confusion Matrix\n",
    "#Comparing the predictions against the actual observations in y_val\n",
    "cm = confusion_matrix(y_pred, y_test)\n",
    "sns.heatmap(cm, annot=True)"
   ]
  },
  {
   "cell_type": "code",
   "execution_count": 26,
   "metadata": {
    "colab": {
     "base_uri": "https://localhost:8080/",
     "height": 265
    },
    "executionInfo": {
     "elapsed": 23,
     "status": "ok",
     "timestamp": 1642502947788,
     "user": {
      "displayName": "siddharth patra",
      "photoUrl": "https://lh3.googleusercontent.com/a-/AOh14Ggv4lQRGyP7p3T0gn2CLL_T-zAq_F4BJx6kWGs1UA=s64",
      "userId": "01966341811263607507"
     },
     "user_tz": -330
    },
    "id": "QOutcEr9l8ZM",
    "outputId": "4630ea2b-5a7c-4304-bbaa-5f40cf906665"
   },
   "outputs": [
    {
     "data": {
      "image/png": "[encoded data removed]",
      "text/plain": [
       "<Figure size 640x480 with 1 Axes>"
      ]
     },
     "metadata": {},
     "output_type": "display_data"
    }
   ],
   "source": [
    "# Plotting graph for MLPClassifier\n",
    "\n",
    "loss_values = model.loss_curve_\n",
    "plt.plot(loss_values)\n",
    "plt.show()"
   ]
  },
  {
   "cell_type": "code",
   "execution_count": 27,
   "metadata": {
    "id": "HdhJVtKQfn9J"
   },
   "outputs": [],
   "source": [
    "# save the model to disk\n",
    "\n",
    "filename = 'E-Coli_model.plk'\n",
    "pickle.dump(model, open(filename, 'wb'))"
   ]
  },
  {
   "cell_type": "code",
   "execution_count": 28,
   "metadata": {
    "colab": {
     "base_uri": "https://localhost:8080/"
    },
    "executionInfo": {
     "elapsed": 381,
     "status": "ok",
     "timestamp": 1642502985873,
     "user": {
      "displayName": "siddharth patra",
      "photoUrl": "https://lh3.googleusercontent.com/a-/AOh14Ggv4lQRGyP7p3T0gn2CLL_T-zAq_F4BJx6kWGs1UA=s64",
      "userId": "01966341811263607507"
     },
     "user_tz": -330
    },
    "id": "9J3KSLC9tHeZ",
    "outputId": "d7bed4b1-8ac8-4f11-f45a-1f83e93f7b50"
   },
   "outputs": [
    {
     "name": "stdout",
     "output_type": "stream",
     "text": [
      "['t', 't', 'a', 'c', 't', 'a', 'g', 'c', 'a', 'a', 't', 'a', 'c', 'g', 'c', 't', 't', 'g', 'c', 'g', 't', 't', 'c', 'g', 'g', 't', 'g', 'g', 't', 't', 'a', 'a', 'g', 't', 'a', 't', 'g', 't', 'a', 't', 'a', 'a', 't', 'g', 'c', 'g', 'c', 'g', 'g', 'g', 'c', 't', 't', 'g', 't', 'c', 'g']\n"
     ]
    }
   ],
   "source": [
    "genome = \"ttactagcaatacgcttgcgttcggtggttaagtatgtataatgcgcgggcttgtcg\"\n",
    "# genome_false = \"ttaacattaataaataaggaggctctaatggcactcattagccaatcaatcaagaac\"\n",
    "genome_list = list(genome)\n",
    "print(genome_list)\n",
    "df_test = pd.DataFrame(genome_list)\n",
    "df_test = df_test.transpose()"
   ]
  },
  {
   "cell_type": "code",
   "execution_count": 29,
   "metadata": {
    "colab": {
     "base_uri": "https://localhost:8080/",
     "height": 270
    },
    "executionInfo": {
     "elapsed": 593,
     "status": "ok",
     "timestamp": 1642502986832,
     "user": {
      "displayName": "siddharth patra",
      "photoUrl": "https://lh3.googleusercontent.com/a-/AOh14Ggv4lQRGyP7p3T0gn2CLL_T-zAq_F4BJx6kWGs1UA=s64",
      "userId": "01966341811263607507"
     },
     "user_tz": -330
    },
    "id": "DC-HpOggu6xg",
    "outputId": "7014f7a0-6775-4e51-8265-e87d429d9ded"
   },
   "outputs": [
    {
     "data": {
      "text/html": [
       "<div>\n",
       "<style scoped>\n",
       "    .dataframe tbody tr th:only-of-type {\n",
       "        vertical-align: middle;\n",
       "    }\n",
       "\n",
       "    .dataframe tbody tr th {\n",
       "        vertical-align: top;\n",
       "    }\n",
       "\n",
       "    .dataframe thead th {\n",
       "        text-align: right;\n",
       "    }\n",
       "</style>\n",
       "<table border=\"1\" class=\"dataframe\">\n",
       "  <thead>\n",
       "    <tr style=\"text-align: right;\">\n",
       "      <th></th>\n",
       "      <th>0</th>\n",
       "      <th>1</th>\n",
       "      <th>2</th>\n",
       "      <th>3</th>\n",
       "      <th>4</th>\n",
       "      <th>5</th>\n",
       "      <th>6</th>\n",
       "      <th>7</th>\n",
       "      <th>8</th>\n",
       "      <th>9</th>\n",
       "      <th>...</th>\n",
       "      <th>48</th>\n",
       "      <th>49</th>\n",
       "      <th>50</th>\n",
       "      <th>51</th>\n",
       "      <th>52</th>\n",
       "      <th>53</th>\n",
       "      <th>54</th>\n",
       "      <th>55</th>\n",
       "      <th>56</th>\n",
       "      <th>Class</th>\n",
       "    </tr>\n",
       "  </thead>\n",
       "  <tbody>\n",
       "    <tr>\n",
       "      <th>0</th>\n",
       "      <td>t</td>\n",
       "      <td>a</td>\n",
       "      <td>c</td>\n",
       "      <td>t</td>\n",
       "      <td>a</td>\n",
       "      <td>g</td>\n",
       "      <td>c</td>\n",
       "      <td>a</td>\n",
       "      <td>a</td>\n",
       "      <td>t</td>\n",
       "      <td>...</td>\n",
       "      <td>g</td>\n",
       "      <td>c</td>\n",
       "      <td>t</td>\n",
       "      <td>t</td>\n",
       "      <td>g</td>\n",
       "      <td>t</td>\n",
       "      <td>c</td>\n",
       "      <td>g</td>\n",
       "      <td>t</td>\n",
       "      <td>1</td>\n",
       "    </tr>\n",
       "    <tr>\n",
       "      <th>1</th>\n",
       "      <td>t</td>\n",
       "      <td>g</td>\n",
       "      <td>c</td>\n",
       "      <td>t</td>\n",
       "      <td>a</td>\n",
       "      <td>t</td>\n",
       "      <td>c</td>\n",
       "      <td>c</td>\n",
       "      <td>t</td>\n",
       "      <td>g</td>\n",
       "      <td>...</td>\n",
       "      <td>c</td>\n",
       "      <td>a</td>\n",
       "      <td>t</td>\n",
       "      <td>c</td>\n",
       "      <td>g</td>\n",
       "      <td>c</td>\n",
       "      <td>c</td>\n",
       "      <td>a</td>\n",
       "      <td>a</td>\n",
       "      <td>1</td>\n",
       "    </tr>\n",
       "    <tr>\n",
       "      <th>2</th>\n",
       "      <td>g</td>\n",
       "      <td>t</td>\n",
       "      <td>a</td>\n",
       "      <td>c</td>\n",
       "      <td>t</td>\n",
       "      <td>a</td>\n",
       "      <td>g</td>\n",
       "      <td>a</td>\n",
       "      <td>g</td>\n",
       "      <td>a</td>\n",
       "      <td>...</td>\n",
       "      <td>c</td>\n",
       "      <td>a</td>\n",
       "      <td>c</td>\n",
       "      <td>c</td>\n",
       "      <td>c</td>\n",
       "      <td>g</td>\n",
       "      <td>g</td>\n",
       "      <td>c</td>\n",
       "      <td>g</td>\n",
       "      <td>1</td>\n",
       "    </tr>\n",
       "    <tr>\n",
       "      <th>3</th>\n",
       "      <td>a</td>\n",
       "      <td>a</td>\n",
       "      <td>t</td>\n",
       "      <td>t</td>\n",
       "      <td>g</td>\n",
       "      <td>t</td>\n",
       "      <td>g</td>\n",
       "      <td>a</td>\n",
       "      <td>t</td>\n",
       "      <td>g</td>\n",
       "      <td>...</td>\n",
       "      <td>a</td>\n",
       "      <td>a</td>\n",
       "      <td>c</td>\n",
       "      <td>a</td>\n",
       "      <td>a</td>\n",
       "      <td>a</td>\n",
       "      <td>c</td>\n",
       "      <td>t</td>\n",
       "      <td>c</td>\n",
       "      <td>1</td>\n",
       "    </tr>\n",
       "    <tr>\n",
       "      <th>4</th>\n",
       "      <td>t</td>\n",
       "      <td>c</td>\n",
       "      <td>g</td>\n",
       "      <td>a</td>\n",
       "      <td>t</td>\n",
       "      <td>a</td>\n",
       "      <td>a</td>\n",
       "      <td>t</td>\n",
       "      <td>t</td>\n",
       "      <td>a</td>\n",
       "      <td>...</td>\n",
       "      <td>c</td>\n",
       "      <td>c</td>\n",
       "      <td>g</td>\n",
       "      <td>t</td>\n",
       "      <td>g</td>\n",
       "      <td>g</td>\n",
       "      <td>t</td>\n",
       "      <td>a</td>\n",
       "      <td>g</td>\n",
       "      <td>1</td>\n",
       "    </tr>\n",
       "  </tbody>\n",
       "</table>\n",
       "<p>5 rows × 58 columns</p>\n",
       "</div>"
      ],
      "text/plain": [
       "   0  1  2  3  4  5  6  7  8  9  ... 48 49 50 51 52 53 54 55 56 Class\n",
       "0  t  a  c  t  a  g  c  a  a  t  ...  g  c  t  t  g  t  c  g  t     1\n",
       "1  t  g  c  t  a  t  c  c  t  g  ...  c  a  t  c  g  c  c  a  a     1\n",
       "2  g  t  a  c  t  a  g  a  g  a  ...  c  a  c  c  c  g  g  c  g     1\n",
       "3  a  a  t  t  g  t  g  a  t  g  ...  a  a  c  a  a  a  c  t  c     1\n",
       "4  t  c  g  a  t  a  a  t  t  a  ...  c  c  g  t  g  g  t  a  g     1\n",
       "\n",
       "[5 rows x 58 columns]"
      ]
     },
     "execution_count": 29,
     "metadata": {},
     "output_type": "execute_result"
    }
   ],
   "source": [
    "df.head()"
   ]
  },
  {
   "cell_type": "code",
   "execution_count": 30,
   "metadata": {
    "colab": {
     "base_uri": "https://localhost:8080/"
    },
    "executionInfo": {
     "elapsed": 4,
     "status": "ok",
     "timestamp": 1642502988478,
     "user": {
      "displayName": "siddharth patra",
      "photoUrl": "https://lh3.googleusercontent.com/a-/AOh14Ggv4lQRGyP7p3T0gn2CLL_T-zAq_F4BJx6kWGs1UA=s64",
      "userId": "01966341811263607507"
     },
     "user_tz": -330
    },
    "id": "BwXEWeoIuXjp",
    "outputId": "72c6e5d8-d713-4f4b-8143-e9b5bc8ded55"
   },
   "outputs": [
    {
     "name": "stdout",
     "output_type": "stream",
     "text": [
      "[1]\n"
     ]
    }
   ],
   "source": [
    "encoder = pickle.load(open(\"EColi-encoder.plk\", 'rb')) \n",
    "data_test = encoder.transform(df_test).toarray()\n",
    "print(model.predict(data_test))"
   ]
  },
  {
   "cell_type": "code",
   "execution_count": 31,
   "metadata": {
    "colab": {
     "base_uri": "https://localhost:8080/"
    },
    "executionInfo": {
     "elapsed": 449,
     "status": "ok",
     "timestamp": 1642503625664,
     "user": {
      "displayName": "siddharth patra",
      "photoUrl": "https://lh3.googleusercontent.com/a-/AOh14Ggv4lQRGyP7p3T0gn2CLL_T-zAq_F4BJx6kWGs1UA=s64",
      "userId": "01966341811263607507"
     },
     "user_tz": -330
    },
    "id": "C9uAKt1m16Kz",
    "outputId": "00976c3a-2764-4a8f-8247-424120568314"
   },
   "outputs": [
    {
     "data": {
      "text/plain": [
       "numpy.int64"
      ]
     },
     "execution_count": 31,
     "metadata": {},
     "output_type": "execute_result"
    }
   ],
   "source": [
    "type(model.predict(data_test)[0])"
   ]
  },
  {
   "cell_type": "code",
   "execution_count": 43,
   "metadata": {
    "id": "xpStkUzyg3bO"
   },
   "outputs": [],
   "source": [
    "# load the model from disk\n",
    "# loaded_model = pickle.load(open(filename, 'rb'))\n",
    "# result = loaded_model.score(X_test, Y_test)"
   ]
  },
  {
   "cell_type": "code",
   "execution_count": null,
   "metadata": {},
   "outputs": [],
   "source": []
  }
 ],
 "metadata": {
  "colab": {
   "authorship_tag": "ABX9TyPQR8PKvUWF0kZFZB0gtKyn",
   "collapsed_sections": [],
   "name": "DNA sequencing for detecting E.Coli.ipynb",
   "provenance": []
  },
  "kernelspec": {
   "display_name": "Python 3 (ipykernel)",
   "language": "python",
   "name": "python3"
  },
  "language_info": {
   "codemirror_mode": {
    "name": "ipython",
    "version": 3
   },
   "file_extension": ".py",
   "mimetype": "text/x-python",
   "name": "python",
   "nbconvert_exporter": "python",
   "pygments_lexer": "ipython3",
   "version": "3.9.13"
  }
 },
 "nbformat": 4,
 "nbformat_minor": 1
}
